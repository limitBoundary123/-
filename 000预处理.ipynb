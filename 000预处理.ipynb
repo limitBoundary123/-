{
 "cells": [
  {
   "cell_type": "code",
   "execution_count": 31,
   "id": "a73dc752",
   "metadata": {},
   "outputs": [],
   "source": [
    "import numpy as np\n",
    "import pandas as pd\n",
    "import matplotlib.pyplot as plt\n",
    "import seaborn as sns\n",
    "import missingno\n",
    "import missingno as msn\n",
    "plt.rcParams['font.sans-serif'] = ['STSong']\n",
    "plt.rcParams['figure.dpi'] = 150\n",
    "from warnings import filterwarnings\n",
    "filterwarnings('ignore')\n",
    "import matplotlib\n",
    "matplotlib.rcParams['font.family'] = 'sans-serif'\n",
    "matplotlib.rcParams['font.sans-serif'] = ['SimHei']\n",
    "import chinese_calendar\n",
    "\n",
    "from sklearn.preprocessing import LabelEncoder, OneHotEncoder\n",
    "from sklearn.impute import KNNImputer\n",
    "from sklearn.metrics import roc_auc_score, roc_curve, accuracy_score, confusion_matrix, log_loss, roc_curve, auc, precision_recall_curve\n",
    "from sklearn.model_selection import StratifiedKFold \n",
    "%matplotlib inline\n",
    "from functools import partial\n",
    "from skopt import gp_minimize\n",
    "from skopt import space\n",
    "from skopt.plots import plot_convergence"
   ]
  },
  {
   "cell_type": "code",
   "execution_count": 36,
   "id": "185074b8",
   "metadata": {},
   "outputs": [
    {
     "data": {
      "text/html": [
       "<div>\n",
       "<style scoped>\n",
       "    .dataframe tbody tr th:only-of-type {\n",
       "        vertical-align: middle;\n",
       "    }\n",
       "\n",
       "    .dataframe tbody tr th {\n",
       "        vertical-align: top;\n",
       "    }\n",
       "\n",
       "    .dataframe thead th {\n",
       "        text-align: right;\n",
       "    }\n",
       "</style>\n",
       "<table border=\"1\" class=\"dataframe\">\n",
       "  <thead>\n",
       "    <tr style=\"text-align: right;\">\n",
       "      <th></th>\n",
       "      <th>order_date</th>\n",
       "      <th>sales_region_code</th>\n",
       "      <th>item_code</th>\n",
       "      <th>first_cate_code</th>\n",
       "      <th>second_cate_code</th>\n",
       "      <th>sales_chan_name</th>\n",
       "      <th>item_price</th>\n",
       "      <th>ord_qty</th>\n",
       "    </tr>\n",
       "  </thead>\n",
       "  <tbody>\n",
       "    <tr>\n",
       "      <th>0</th>\n",
       "      <td>2015-09-01</td>\n",
       "      <td>104</td>\n",
       "      <td>22069</td>\n",
       "      <td>307</td>\n",
       "      <td>403</td>\n",
       "      <td>offline</td>\n",
       "      <td>1114.0</td>\n",
       "      <td>19</td>\n",
       "    </tr>\n",
       "    <tr>\n",
       "      <th>1</th>\n",
       "      <td>2015-09-01</td>\n",
       "      <td>104</td>\n",
       "      <td>20028</td>\n",
       "      <td>301</td>\n",
       "      <td>405</td>\n",
       "      <td>offline</td>\n",
       "      <td>1012.0</td>\n",
       "      <td>12</td>\n",
       "    </tr>\n",
       "    <tr>\n",
       "      <th>2</th>\n",
       "      <td>2015-09-02</td>\n",
       "      <td>104</td>\n",
       "      <td>21183</td>\n",
       "      <td>307</td>\n",
       "      <td>403</td>\n",
       "      <td>online</td>\n",
       "      <td>428.0</td>\n",
       "      <td>109</td>\n",
       "    </tr>\n",
       "    <tr>\n",
       "      <th>3</th>\n",
       "      <td>2015-09-02</td>\n",
       "      <td>104</td>\n",
       "      <td>20448</td>\n",
       "      <td>308</td>\n",
       "      <td>404</td>\n",
       "      <td>online</td>\n",
       "      <td>962.0</td>\n",
       "      <td>3</td>\n",
       "    </tr>\n",
       "    <tr>\n",
       "      <th>4</th>\n",
       "      <td>2015-09-02</td>\n",
       "      <td>104</td>\n",
       "      <td>21565</td>\n",
       "      <td>307</td>\n",
       "      <td>403</td>\n",
       "      <td>offline</td>\n",
       "      <td>1400.0</td>\n",
       "      <td>3</td>\n",
       "    </tr>\n",
       "  </tbody>\n",
       "</table>\n",
       "</div>"
      ],
      "text/plain": [
       "   order_date  sales_region_code  item_code  first_cate_code  \\\n",
       "0  2015-09-01                104      22069              307   \n",
       "1  2015-09-01                104      20028              301   \n",
       "2  2015-09-02                104      21183              307   \n",
       "3  2015-09-02                104      20448              308   \n",
       "4  2015-09-02                104      21565              307   \n",
       "\n",
       "   second_cate_code sales_chan_name  item_price  ord_qty  \n",
       "0               403         offline      1114.0       19  \n",
       "1               405         offline      1012.0       12  \n",
       "2               403          online       428.0      109  \n",
       "3               404          online       962.0        3  \n",
       "4               403         offline      1400.0        3  "
      ]
     },
     "execution_count": 36,
     "metadata": {},
     "output_type": "execute_result"
    }
   ],
   "source": [
    "df_train = pd.read_csv('D:/ProgrammingLeaning/JupyterLearning/order_train1.csv')\n",
    "df_train.head()"
   ]
  },
  {
   "cell_type": "code",
   "execution_count": 5,
   "id": "ce9d3058",
   "metadata": {},
   "outputs": [
    {
     "name": "stdout",
     "output_type": "stream",
     "text": [
      "<class 'pandas.core.frame.DataFrame'>\n",
      "RangeIndex: 597694 entries, 0 to 597693\n",
      "Data columns (total 8 columns):\n",
      " #   Column             Non-Null Count   Dtype  \n",
      "---  ------             --------------   -----  \n",
      " 0   order_date         597694 non-null  object \n",
      " 1   sales_region_code  597694 non-null  int64  \n",
      " 2   item_code          597694 non-null  int64  \n",
      " 3   first_cate_code    597694 non-null  int64  \n",
      " 4   second_cate_code   597694 non-null  int64  \n",
      " 5   sales_chan_name    597694 non-null  object \n",
      " 6   item_price         597694 non-null  float64\n",
      " 7   ord_qty            597694 non-null  int64  \n",
      "dtypes: float64(1), int64(5), object(2)\n",
      "memory usage: 36.5+ MB\n"
     ]
    }
   ],
   "source": [
    "df_train.info()"
   ]
  },
  {
   "cell_type": "code",
   "execution_count": 6,
   "id": "13028665",
   "metadata": {},
   "outputs": [
    {
     "data": {
      "image/png": "[encoded data removed]",
      "text/plain": [
       "<Figure size 1500x750 with 3 Axes>"
      ]
     },
     "metadata": {},
     "output_type": "display_data"
    }
   ],
   "source": [
    "#查看缺失值\n",
    "missingno.bar(df_train,color=\"plum\", sort=\"ascending\", figsize=(10,5), fontsize=12);"
   ]
  },
  {
   "cell_type": "code",
   "execution_count": 42,
   "id": "21863467",
   "metadata": {},
   "outputs": [
    {
     "data": {
      "text/html": [
       "<div>\n",
       "<style scoped>\n",
       "    .dataframe tbody tr th:only-of-type {\n",
       "        vertical-align: middle;\n",
       "    }\n",
       "\n",
       "    .dataframe tbody tr th {\n",
       "        vertical-align: top;\n",
       "    }\n",
       "\n",
       "    .dataframe thead th {\n",
       "        text-align: right;\n",
       "    }\n",
       "</style>\n",
       "<table border=\"1\" class=\"dataframe\">\n",
       "  <thead>\n",
       "    <tr style=\"text-align: right;\">\n",
       "      <th></th>\n",
       "      <th>sales_region_code</th>\n",
       "      <th>item_code</th>\n",
       "      <th>first_cate_code</th>\n",
       "      <th>second_cate_code</th>\n",
       "      <th>item_price</th>\n",
       "      <th>ord_qty</th>\n",
       "    </tr>\n",
       "  </thead>\n",
       "  <tbody>\n",
       "    <tr>\n",
       "      <th>count</th>\n",
       "      <td>597382.000000</td>\n",
       "      <td>597382.000000</td>\n",
       "      <td>597382.000000</td>\n",
       "      <td>597382.000000</td>\n",
       "      <td>597382.000000</td>\n",
       "      <td>597382.000000</td>\n",
       "    </tr>\n",
       "    <tr>\n",
       "      <th>mean</th>\n",
       "      <td>102.904318</td>\n",
       "      <td>21008.029884</td>\n",
       "      <td>304.932141</td>\n",
       "      <td>406.457362</td>\n",
       "      <td>1076.141512</td>\n",
       "      <td>91.683901</td>\n",
       "    </tr>\n",
       "    <tr>\n",
       "      <th>std</th>\n",
       "      <td>1.505023</td>\n",
       "      <td>590.908646</td>\n",
       "      <td>2.004253</td>\n",
       "      <td>3.107303</td>\n",
       "      <td>1167.576590</td>\n",
       "      <td>199.887129</td>\n",
       "    </tr>\n",
       "    <tr>\n",
       "      <th>min</th>\n",
       "      <td>101.000000</td>\n",
       "      <td>20001.000000</td>\n",
       "      <td>301.000000</td>\n",
       "      <td>401.000000</td>\n",
       "      <td>1.000000</td>\n",
       "      <td>1.000000</td>\n",
       "    </tr>\n",
       "    <tr>\n",
       "      <th>25%</th>\n",
       "      <td>102.000000</td>\n",
       "      <td>20518.000000</td>\n",
       "      <td>303.000000</td>\n",
       "      <td>404.000000</td>\n",
       "      <td>598.000000</td>\n",
       "      <td>10.000000</td>\n",
       "    </tr>\n",
       "    <tr>\n",
       "      <th>50%</th>\n",
       "      <td>103.000000</td>\n",
       "      <td>20976.000000</td>\n",
       "      <td>306.000000</td>\n",
       "      <td>407.000000</td>\n",
       "      <td>883.000000</td>\n",
       "      <td>29.000000</td>\n",
       "    </tr>\n",
       "    <tr>\n",
       "      <th>75%</th>\n",
       "      <td>105.000000</td>\n",
       "      <td>21521.000000</td>\n",
       "      <td>306.000000</td>\n",
       "      <td>408.000000</td>\n",
       "      <td>1291.000000</td>\n",
       "      <td>101.000000</td>\n",
       "    </tr>\n",
       "    <tr>\n",
       "      <th>max</th>\n",
       "      <td>105.000000</td>\n",
       "      <td>22084.000000</td>\n",
       "      <td>308.000000</td>\n",
       "      <td>412.000000</td>\n",
       "      <td>260014.000000</td>\n",
       "      <td>16308.000000</td>\n",
       "    </tr>\n",
       "  </tbody>\n",
       "</table>\n",
       "</div>"
      ],
      "text/plain": [
       "       sales_region_code      item_code  first_cate_code  second_cate_code  \\\n",
       "count      597382.000000  597382.000000    597382.000000     597382.000000   \n",
       "mean          102.904318   21008.029884       304.932141        406.457362   \n",
       "std             1.505023     590.908646         2.004253          3.107303   \n",
       "min           101.000000   20001.000000       301.000000        401.000000   \n",
       "25%           102.000000   20518.000000       303.000000        404.000000   \n",
       "50%           103.000000   20976.000000       306.000000        407.000000   \n",
       "75%           105.000000   21521.000000       306.000000        408.000000   \n",
       "max           105.000000   22084.000000       308.000000        412.000000   \n",
       "\n",
       "          item_price        ord_qty  \n",
       "count  597382.000000  597382.000000  \n",
       "mean     1076.141512      91.683901  \n",
       "std      1167.576590     199.887129  \n",
       "min         1.000000       1.000000  \n",
       "25%       598.000000      10.000000  \n",
       "50%       883.000000      29.000000  \n",
       "75%      1291.000000     101.000000  \n",
       "max    260014.000000   16308.000000  "
      ]
     },
     "execution_count": 42,
     "metadata": {},
     "output_type": "execute_result"
    }
   ],
   "source": [
    "## 去重处理\n",
    "df_train.drop_duplicates(inplace=True)\n",
    "df_train.describe()"
   ]
  },
  {
   "cell_type": "code",
   "execution_count": 40,
   "id": "3aa0dfd6",
   "metadata": {},
   "outputs": [
    {
     "data": {
      "text/plain": [
       "Text(0.5, 1.0, 'item_price')"
      ]
     },
     "execution_count": 40,
     "metadata": {},
     "output_type": "execute_result"
    },
    {
     "data": {
      "image/png": "[encoded data removed]",
      "text/plain": [
       "<Figure size 1500x750 with 1 Axes>"
      ]
     },
     "metadata": {},
     "output_type": "display_data"
    }
   ],
   "source": [
    "#产品价格特征异常值检查\n",
    "plt.figure(figsize=(10,5))\n",
    "plt.rcParams['font.sans-serif']='simhei'\n",
    "plt.rcParams['axes.unicode_minus']=False\n",
    "a1 = plt.boxplot(df_train['item_price'],vert=False,showmeans=True,flierprops={\"marker\":\"o\",\"markerfacecolor\":\"red\"})\n",
    "plt.title('item_price')"
   ]
  },
  {
   "cell_type": "code",
   "execution_count": 43,
   "id": "d3dbfe51",
   "metadata": {},
   "outputs": [
    {
     "data": {
      "text/plain": [
       "Text(0.5, 1.0, 'ord_qty')"
      ]
     },
     "execution_count": 43,
     "metadata": {},
     "output_type": "execute_result"
    },
    {
     "data": {
      "image/png": "[encoded data removed]",
      "text/plain": [
       "<Figure size 1500x750 with 1 Axes>"
      ]
     },
     "metadata": {},
     "output_type": "display_data"
    }
   ],
   "source": [
    "#需求量异常值： 在df.describe()中可以知道需求量有max16308\n",
    "#产品价格特征异常值检查\n",
    "plt.figure(figsize=(10,5))\n",
    "plt.rcParams['font.sans-serif']='simhei'\n",
    "plt.rcParams['axes.unicode_minus']=False\n",
    "a1 = plt.boxplot(df_train['ord_qty'],vert=False,showmeans=True,flierprops={\"marker\":\"o\",\"markerfacecolor\":\"red\"})\n",
    "plt.title('ord_qty')"
   ]
  },
  {
   "cell_type": "code",
   "execution_count": null,
   "id": "1dcab892",
   "metadata": {},
   "outputs": [],
   "source": [
    "#数据预处理\n",
    "# 新增8个特征Year、Month、day、week、weekday、season、month_phase、is_holiday\n"
   ]
  },
  {
   "cell_type": "code",
   "execution_count": 44,
   "id": "8a14c918",
   "metadata": {},
   "outputs": [],
   "source": [
    "import pandas as pd\n",
    "from sklearn.preprocessing import OneHotEncoder\n",
    "import holidays\n",
    "\n",
    "\n",
    "def extract_date_features(data):\n",
    "    \"\"\"\n",
    "    提取日期特征。\n",
    "    :param data: pandas DataFrame\n",
    "    :return: 添加了日期特征的数据框\n",
    "    \"\"\"\n",
    "    if \"order_date\" in data.columns:\n",
    "        data[\"order_date\"] = pd.to_datetime(data[\"order_date\"])\n",
    "    data[\"Year\"] = data[\"order_date\"].dt.year\n",
    "    data[\"Month\"] = data[\"order_date\"].dt.month\n",
    "    data[\"day\"] = data[\"order_date\"].dt.day\n",
    "    data[\"week\"] = data[\"order_date\"].dt.weekofyear\n",
    "    data[\"weekday\"] = data[\"order_date\"].dt.weekday\n",
    "    # 基于北半球的季节划分\n",
    "    data[\"season\"] = data[\"Month\"].apply(lambda x: (x % 12 + 3) // 3)\n",
    "    return data\n",
    "\n",
    "def add_month_phase_feature(data, date_column):\n",
    "    \"\"\"\n",
    "    添加月份阶段特征。\n",
    "    :param data: pandas DataFrame\n",
    "    :param date_column: 用于提取月份阶段的日期列名称\n",
    "    :return: 添加了月份阶段特征的数据框\n",
    "    \"\"\"\n",
    "\n",
    "    def categorize_month_phase(day):\n",
    "        if day <= 10:\n",
    "            return \"Early Month\"\n",
    "        elif day <= 20:\n",
    "            return \"Mid Month\"\n",
    "        else:\n",
    "            return \"End of Month\"\n",
    "\n",
    "    data[\"month_phase\"] = data[date_column].dt.day.apply(categorize_month_phase)\n",
    "    return data\n",
    "\n",
    "\n",
    "def add_holiday_feature(data, years):\n",
    "    \"\"\"\n",
    "    为数据集添加假日特征。\n",
    "    :param data: pandas DataFrame\n",
    "    :param years: 年份列表\n",
    "    :return: 添加了假日特征的数据框\n",
    "    \"\"\"\n",
    "    cn_holidays = holidays.CN(years=years)\n",
    "    data[\"is_holiday\"] = data[\"order_date\"].apply(lambda x: x in cn_holidays)\n",
    "    return data\n",
    "\n",
    "def add_season_feature(data):\n",
    "    \"\"\"\n",
    "    添加季节特征，假设北半球的季节。\n",
    "    :param data: pandas DataFrame\n",
    "    :return: 添加了季节特征的数据框\n",
    "    \"\"\"\n",
    "\n",
    "    def get_season(month):\n",
    "        if month in [3, 4, 5]:\n",
    "            return \"Spring\"\n",
    "        elif month in [6, 7, 8]:\n",
    "            return \"Summer\"\n",
    "        elif month in [9, 10, 11]:\n",
    "            return \"Fall\"\n",
    "        else:\n",
    "            return \"Winter\"\n",
    "\n",
    "    data[\"season\"] = data[\"Month\"].apply(get_season)\n",
    "    return data\n",
    "\n",
    "\n",
    "def mark_promotions(data):\n",
    "    \"\"\"\n",
    "    标记促销日。\n",
    "    :param data: pandas DataFrame\n",
    "    :return: 标记了促销日的数据框\n",
    "    \"\"\"\n",
    "    # 定义促销日期\n",
    "    promo_dates = {(2,14),(3,8),(6, 18), (11, 11), (12, 12)}  # 618、双十一、双十二\n",
    "    # 标记促销日\n",
    "    data[\"is_promo\"] = data[\"order_date\"].apply(\n",
    "        lambda x: (x.month, x.day) in promo_dates\n",
    "    )\n",
    "    return data\n",
    "\n"
   ]
  },
  {
   "cell_type": "code",
   "execution_count": 47,
   "id": "96da651d",
   "metadata": {},
   "outputs": [
    {
     "name": "stdout",
     "output_type": "stream",
     "text": [
      "数据预处理完成\n",
      "preprocessing raw data is done!\n",
      "Preprocessed data is saved in folder 产品订单processed_data0620\n"
     ]
    }
   ],
   "source": [
    "def preprocess_data(data, date_column):\n",
    "    \"\"\"\n",
    "    执行数据预处理\n",
    "    :param data: pandas DataFrame\n",
    "    :param date_column: 日期列名称\n",
    "    :return: 添加了特征的数据框\n",
    "    Year、Month、day、week、标签(月初中末)、是否节假日\n",
    "\n",
    "    \"\"\"\n",
    "    data = extract_date_features(data)\n",
    "    data = add_month_phase_feature(data, date_column)\n",
    "    unique_years = data[date_column].dt.year.unique()\n",
    "    data = add_holiday_feature(data, list(unique_years))\n",
    "    data = add_season_feature(data)\n",
    "\n",
    "    print(\"数据预处理完成\")\n",
    "    return data\n",
    "\n",
    "def main():\n",
    "    # 加载数据\n",
    "    file_path = \"D:/ProgrammingLeaning/JupyterLearning/order_train1.csv\"\n",
    "    data = pd.read_csv(file_path)\n",
    "    date_column = \"order_date\" #日期列\n",
    "    \n",
    "    # 转换日期列\n",
    "    data[date_column] = pd.to_datetime(data[date_column])\n",
    "    \n",
    "    ## 去重处理\n",
    "    data.drop_duplicates(inplace=True)\n",
    "    \n",
    "    #删除掉两个异常值(价格)\n",
    "    data=data[data['item_price'] <100000] #去掉26万的异常值\n",
    "    #删除异常值（需求量）\n",
    "    data=data[data['ord_qty'] <6000]\n",
    "    \n",
    "    #预处理数据， Year、Month、day、week、标签(月初中末)\"month_phase\"、是否节假日\"is_holiday\"\n",
    "    preprocessed_data = preprocess_data(data,date_column)\n",
    "    print(\"preprocessing raw data is done!\")\n",
    "\n",
    "    # 保存预处理数据\n",
    "    preprocessed_data.to_csv(\"D:/ProgrammingLeaning/JupyterLearning/产品订单processed_data/processed_data0622.csv\", index=False)\n",
    "    print(\"Preprocessed data is saved in folder 产品订单processed_data0620\")\n",
    "    return preprocessed_data\n",
    "\n",
    "if __name__ == \"__main__\":\n",
    "    main()"
   ]
  },
  {
   "cell_type": "code",
   "execution_count": 48,
   "id": "451e2837",
   "metadata": {},
   "outputs": [
    {
     "name": "stdout",
     "output_type": "stream",
     "text": [
      "构造出来的数据条数: 109998\n",
      "  order_date  sales_region_code  item_code  first_cate_code  second_cate_code  \\\n",
      "0 2018-12-21                101      20002              303               406   \n",
      "1 2018-12-21                101      20003              301               405   \n",
      "2 2018-12-21                101      20006              307               403   \n",
      "3 2018-12-21                101      20011              303               401   \n",
      "4 2018-12-21                101      20014              307               403   \n",
      "\n",
      "   ord_qty  \n",
      "0        0  \n",
      "1        0  \n",
      "2        0  \n",
      "3        0  \n",
      "4        0  \n"
     ]
    }
   ],
   "source": [
    "def construct_2019_january_data(predict_2019):\n",
    "    \"\"\"\n",
    "    构造2018年12月21日至2019年1月的数据表。\n",
    "    :param predict_2019: DataFrame, 包含销售区域编码、商品编码、大类编码和细类编码\n",
    "    :return: pandas DataFrame, 构造好的2018年12月21日至2019年1月的数据表\n",
    "    \"\"\"\n",
    "    dates = pd.date_range(start='2018-12-21', end='2019-01-31')\n",
    "    data_list = []\n",
    "    for date in dates:\n",
    "        for _, row in predict_2019.iterrows():\n",
    "            data_list.append([date, row['sales_region_code'], row['item_code'],row['first_cate_code'], row['second_cate_code'], 0])  # ord_qty初始为0\n",
    "    data_2019 = pd.DataFrame(data_list, columns=['order_date', 'sales_region_code', 'item_code', 'first_cate_code', 'second_cate_code', 'ord_qty'])\n",
    "    return data_2019\n",
    "\n",
    "#加载待预测数据\n",
    "predict_2019 = pd.read_csv('D:/ProgrammingLeaning/JupyterLearning/predict_sku1.csv')\n",
    "# 构造2019年1月数据表\n",
    "data_2019 = construct_2019_january_data(predict_2019)\n",
    "\n",
    "print(f\"构造出来的数据条数: {len(data_2019)}\")\n",
    "print(data_2019.head())  # 打印前几行数据以进行检查\n",
    "data_2019.to_csv(\"D:/ProgrammingLeaning/JupyterLearning/产品订单processed_data/data_20181221_2019_raw.csv\", index=False)"
   ]
  },
  {
   "cell_type": "code",
   "execution_count": 49,
   "id": "8832bffc",
   "metadata": {},
   "outputs": [
    {
     "name": "stdout",
     "output_type": "stream",
     "text": [
      "<class 'pandas.core.frame.DataFrame'>\n",
      "RangeIndex: 109998 entries, 0 to 109997\n",
      "Data columns (total 6 columns):\n",
      " #   Column             Non-Null Count   Dtype         \n",
      "---  ------             --------------   -----         \n",
      " 0   order_date         109998 non-null  datetime64[ns]\n",
      " 1   sales_region_code  109998 non-null  int64         \n",
      " 2   item_code          109998 non-null  int64         \n",
      " 3   first_cate_code    109998 non-null  int64         \n",
      " 4   second_cate_code   109998 non-null  int64         \n",
      " 5   ord_qty            109998 non-null  int64         \n",
      "dtypes: datetime64[ns](1), int64(5)\n",
      "memory usage: 5.0 MB\n"
     ]
    }
   ],
   "source": [
    "data_2019.info()"
   ]
  },
  {
   "cell_type": "code",
   "execution_count": 51,
   "id": "b09f30e3",
   "metadata": {},
   "outputs": [
    {
     "name": "stdout",
     "output_type": "stream",
     "text": [
      "数据预处理完成\n",
      "preprocessing raw data is done!\n",
      "Preprocessed data is saved in folder 产品订单processed_20181221_2019_data\n"
     ]
    }
   ],
   "source": [
    "def main():\n",
    "    # 加载数据\n",
    "    file_path = \"D:/ProgrammingLeaning/JupyterLearning/产品订单processed_data/data_20181221_2019_raw.csv\"\n",
    "    data = pd.read_csv(file_path)\n",
    "    date_column = \"order_date\" #日期列\n",
    "    \n",
    "    # 转换日期列\n",
    "    data[date_column] = pd.to_datetime(data[date_column])\n",
    "    \n",
    "    ## 去重处理\n",
    "    data.drop_duplicates(inplace=True)\n",
    "    \n",
    "    #预处理数据， Year、Month、day、week、标签(月初中末)\"month_phase\"、是否节假日\"is_holiday\"\n",
    "    preprocessed_data = preprocess_data(data,date_column)\n",
    "    print(\"preprocessing raw data is done!\")\n",
    "\n",
    "    # 保存预处理数据\n",
    "    preprocessed_data.to_csv(\"D:/ProgrammingLeaning/JupyterLearning/产品订单processed_data/processed_20181221_2019_data0622.csv\", index=False)\n",
    "    print(\"Preprocessed data is saved in folder 产品订单processed_20181221_2019_data\")\n",
    "    return preprocessed_data\n",
    "\n",
    "if __name__ == \"__main__\":\n",
    "    main()"
   ]
  },
  {
   "cell_type": "code",
   "execution_count": 52,
   "id": "b9a94635",
   "metadata": {},
   "outputs": [],
   "source": [
    "import joblib\n",
    "\n",
    "#原始数据\n",
    "data = pd.read_csv('D:/ProgrammingLeaning/JupyterLearning/产品订单processed_data/processed_data0622.csv',encoding='utf-8')\n",
    "data['order_date'] = pd.to_datetime(data['order_date'])\n",
    "data = data.sort_values(by='order_date')\n",
    "\n",
    "data_2019 = pd.read_csv(\"D:/ProgrammingLeaning/JupyterLearning/产品订单processed_data/processed_20181221_2019_data0622.csv\")\n",
    "\n",
    "# 将2019年数据与历史数据拼接\n",
    "combined_data = pd.concat([data, data_2019], ignore_index=True)\n",
    "combined_data \n",
    "combined_data.to_csv(\"D:/ProgrammingLeaning/JupyterLearning/产品订单processed_data/processed_2015to2019_01_data0622.csv\")"
   ]
  },
  {
   "cell_type": "code",
   "execution_count": 53,
   "id": "d5cd6302",
   "metadata": {},
   "outputs": [
    {
     "name": "stdout",
     "output_type": "stream",
     "text": [
      "<class 'pandas.core.frame.DataFrame'>\n",
      "RangeIndex: 707359 entries, 0 to 707358\n",
      "Data columns (total 16 columns):\n",
      " #   Column             Non-Null Count   Dtype  \n",
      "---  ------             --------------   -----  \n",
      " 0   order_date         707359 non-null  object \n",
      " 1   sales_region_code  707359 non-null  int64  \n",
      " 2   item_code          707359 non-null  int64  \n",
      " 3   first_cate_code    707359 non-null  int64  \n",
      " 4   second_cate_code   707359 non-null  int64  \n",
      " 5   sales_chan_name    597361 non-null  object \n",
      " 6   item_price         597361 non-null  float64\n",
      " 7   ord_qty            707359 non-null  int64  \n",
      " 8   Year               707359 non-null  int64  \n",
      " 9   Month              707359 non-null  int64  \n",
      " 10  day                707359 non-null  int64  \n",
      " 11  week               707359 non-null  int64  \n",
      " 12  weekday            707359 non-null  int64  \n",
      " 13  season             707359 non-null  object \n",
      " 14  month_phase        707359 non-null  object \n",
      " 15  is_holiday         707359 non-null  bool   \n",
      "dtypes: bool(1), float64(1), int64(10), object(4)\n",
      "memory usage: 81.6+ MB\n"
     ]
    }
   ],
   "source": [
    "combined_data.info()"
   ]
  },
  {
   "cell_type": "code",
   "execution_count": null,
   "id": "7c2e4d33",
   "metadata": {},
   "outputs": [],
   "source": []
  }
 ],
 "metadata": {
  "kernelspec": {
   "display_name": "Python 3 (ipykernel)",
   "language": "python",
   "name": "python3"
  },
  "language_info": {
   "codemirror_mode": {
    "name": "ipython",
    "version": 3
   },
   "file_extension": ".py",
   "mimetype": "text/x-python",
   "name": "python",
   "nbconvert_exporter": "python",
   "pygments_lexer": "ipython3",
   "version": "3.11.4"
  }
 },
 "nbformat": 4,
 "nbformat_minor": 5
}
